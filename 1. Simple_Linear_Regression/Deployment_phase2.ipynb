{
 "cells": [
  {
   "cell_type": "code",
   "execution_count": 1,
   "id": "b413c6b5-0038-48ba-8971-2e290b82093b",
   "metadata": {},
   "outputs": [],
   "source": [
    "#import the pickle module\n",
    "import pickle"
   ]
  },
  {
   "cell_type": "code",
   "execution_count": 8,
   "id": "c1b494a6-c436-4ac7-8b81-484e57ce368e",
   "metadata": {},
   "outputs": [
    {
     "name": "stderr",
     "output_type": "stream",
     "text": [
      "C:\\Users\\kaavi\\anaconda3\\Lib\\site-packages\\sklearn\\utils\\validation.py:2739: UserWarning: X does not have valid feature names, but LinearRegression was fitted with feature names\n",
      "  warnings.warn(\n"
     ]
    }
   ],
   "source": [
    "#Open the file in a read binary mode.\n",
    "#pickle.load() deserializes(converts) from binary format back into python object.\n",
    "#The variable loaded_model now holds the exact model that we trained.\n",
    "#loaded_model to predict the salary based on input(experience) and stored it in a variable result.\n",
    "loaded_model = pickle.load(open(\"finalized_model_linear.sav\", 'rb'))\n",
    "result = loaded_model.predict([[0]])"
   ]
  },
  {
   "cell_type": "code",
   "execution_count": 9,
   "id": "026824d0-b3ad-41f7-a208-b0bdb9248a70",
   "metadata": {},
   "outputs": [
    {
     "data": {
      "text/plain": [
       "array([[26777.3913412]])"
      ]
     },
     "execution_count": 9,
     "metadata": {},
     "output_type": "execute_result"
    }
   ],
   "source": [
    "#Display the value stored in a result variable.\n",
    "result"
   ]
  },
  {
   "cell_type": "code",
   "execution_count": null,
   "id": "80839099-0e0b-4632-b033-7516de8d7e53",
   "metadata": {},
   "outputs": [],
   "source": []
  }
 ],
 "metadata": {
  "kernelspec": {
   "display_name": "Python 3 (ipykernel)",
   "language": "python",
   "name": "python3"
  },
  "language_info": {
   "codemirror_mode": {
    "name": "ipython",
    "version": 3
   },
   "file_extension": ".py",
   "mimetype": "text/x-python",
   "name": "python",
   "nbconvert_exporter": "python",
   "pygments_lexer": "ipython3",
   "version": "3.13.5"
  }
 },
 "nbformat": 4,
 "nbformat_minor": 5
}
